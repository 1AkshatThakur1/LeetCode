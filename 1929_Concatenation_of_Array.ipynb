{
  "nbformat": 4,
  "nbformat_minor": 0,
  "metadata": {
    "colab": {
      "provenance": []
    },
    "kernelspec": {
      "name": "python3",
      "display_name": "Python 3"
    },
    "language_info": {
      "name": "python"
    }
  },
  "cells": [
    {
      "cell_type": "markdown",
      "source": [
        "#**1929. Concatenation of Array**\n",
        "\n",
        "Given an integer array nums of length n, you want to create an array ans of length 2n where ans[i] == nums[i] and ans[i + n] == nums[i] for 0 <= i < n (0-indexed).\n",
        "\n",
        "Specifically, ans is the concatenation of two nums arrays.\n",
        "\n",
        "Return the array ans.\n",
        "\n",
        "\n",
        "\n",
        "Example 1:\n",
        "\n",
        "Input: nums = [1,2,1]\n",
        "\n",
        "Output: [1,2,1,1,2,1]\n",
        "\n",
        "Explanation: The array ans is formed as follows:\n",
        "\n",
        "- ans = [nums[0],nums[1],nums[2],nums[0],nums[1],nums[2]]\n",
        "\n",
        "- ans = [1,2,1,1,2,1]\n",
        "\n",
        "Example 2:\n",
        "\n",
        "Input: nums = [1,3,2,1]\n",
        "\n",
        "Output: [1,3,2,1,1,3,2,1]\n",
        "\n",
        "Explanation: The array ans is formed as follows:\n",
        "\n",
        "- ans = [nums[0],nums[1],nums[2],nums[3],nums[0],nums[1],nums[2],nums[3]]\n",
        "\n",
        "- ans = [1,3,2,1,1,3,2,1]\n",
        "\n",
        "\n",
        "Constraints:\n",
        "\n",
        "n == nums.length\n",
        "\n",
        "1 <= n <= 1000\n",
        "\n",
        "1 <= nums[i] <= 1000\n"
      ],
      "metadata": {
        "id": "ohRnPUu2oD8_"
      }
    },
    {
      "cell_type": "code",
      "execution_count": 1,
      "metadata": {
        "id": "3_hZGUbQnwSo"
      },
      "outputs": [],
      "source": [
        "class Solution:\n",
        "    def getConcatenation(self, nums: list[int]) -> list[int]:\n",
        "        return nums*2"
      ]
    }
  ]
}